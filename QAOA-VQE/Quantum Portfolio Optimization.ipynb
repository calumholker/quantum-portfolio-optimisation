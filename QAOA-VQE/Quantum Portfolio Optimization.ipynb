{
 "cells": [
  {
   "cell_type": "markdown",
   "metadata": {},
   "source": [
    "# Benchmarking QAOA and VQE solutions to the mean variance portfolio problem with real data"
   ]
  },
  {
   "cell_type": "code",
   "execution_count": 1,
   "metadata": {},
   "outputs": [],
   "source": [
    "from qiskit import Aer\n",
    "from qiskit.circuit.library import TwoLocal\n",
    "from qiskit.aqua import QuantumInstance\n",
    "from qiskit.finance.applications.ising import portfolio\n",
    "from qiskit.finance import QiskitFinanceError\n",
    "from qiskit.finance.data_providers import *\n",
    "from qiskit.optimization.applications.ising.common import sample_most_likely\n",
    "from qiskit.finance.data_providers import RandomDataProvider\n",
    "from qiskit.aqua.algorithms import VQE, QAOA, NumPyMinimumEigensolver\n",
    "from qiskit.aqua.components.optimizers import COBYLA\n",
    "import numpy as np\n",
    "import matplotlib.pyplot as plt\n",
    "import datetime\n",
    "import json\n",
    "import http.client"
   ]
  },
  {
   "cell_type": "code",
   "execution_count": 2,
   "metadata": {},
   "outputs": [],
   "source": [
    "def get_vars(stocks, risk_factor):\n",
    "    data = YahooDataProvider(tickers = stocks, start=datetime.datetime(2013, 1, 1), end=datetime.datetime(2020, 1, 1))\n",
    "    data.run()\n",
    "    # set number of equities to the number of stocks, num_assets = qubits\n",
    "    num_assets = len(stocks)\n",
    "    mu = data.get_period_return_mean_vector()\n",
    "    sigma = data.get_period_return_covariance_matrix()\n",
    "    \n",
    "    # Covariant matrix plot -- shows correlation between equities\n",
    "    print(\"Covariance plot\")\n",
    "    plt.imshow(sigma)\n",
    "    plt.show()\n",
    "    \n",
    "    # set the risk factor\n",
    "    q = risk_factor\n",
    "    # set budget\n",
    "    budget = num_assets // 2 \n",
    "    # scaling of budget penalty term will be dependant on the number of assets\n",
    "    penalty = num_assets \n",
    "    \n",
    "    # Retrieve Hamiltonian\n",
    "    qubitOp, offset = portfolio.get_operator(mu, sigma, q, budget, penalty)\n",
    "    \n",
    "    return num_assets, mu, sigma, q, budget, penalty, qubitOp, offset"
   ]
  },
  {
   "cell_type": "markdown",
   "metadata": {},
   "source": [
    "## Data processing functions"
   ]
  },
  {
   "cell_type": "code",
   "execution_count": 3,
   "metadata": {},
   "outputs": [],
   "source": [
    "def index_to_selection(i, num_assets):\n",
    "    s = \"{0:b}\".format(i).rjust(num_assets)\n",
    "    x = np.array([1 if s[i]=='1' else 0 for i in reversed(range(num_assets))])\n",
    "    return x\n",
    "\n",
    "def selection_to_picks(num_assets, selection):\n",
    "    purchase = []\n",
    "    for i in range(num_assets):\n",
    "        if selection[i] == 1:\n",
    "            purchase.append(stocks[i])\n",
    "    return purchase\n",
    "\n",
    "def print_result(result):\n",
    "    selection = sample_most_likely(result.eigenstate)\n",
    "    value = portfolio.portfolio_value(selection, mu, sigma, q, budget, penalty)\n",
    "    print(f\"!!! Optimal: portfolio holdings !!!\")\n",
    "    return selection"
   ]
  },
  {
   "cell_type": "markdown",
   "metadata": {},
   "source": [
    "## QAOA implementation"
   ]
  },
  {
   "cell_type": "code",
   "execution_count": 4,
   "metadata": {},
   "outputs": [],
   "source": [
    "def qaoa(qubitOp):\n",
    "    backend = Aer.get_backend('statevector_simulator')\n",
    "    seed = 50\n",
    "    cobyla = COBYLA()\n",
    "    cobyla.set_options(maxiter=250)\n",
    "    qaoa = QAOA(qubitOp, cobyla, 3)\n",
    "\n",
    "    qaoa.random_seed = seed\n",
    "    quantum_instance = QuantumInstance(backend=backend, seed_simulator=seed, seed_transpiler=seed)\n",
    "    results= qaoa.run(quantum_instance)\n",
    "    selection = print_result(results)\n",
    "    print(selection_to_picks(num_assets, selection))"
   ]
  },
  {
   "cell_type": "markdown",
   "metadata": {},
   "source": [
    "## Classical Eigensolver"
   ]
  },
  {
   "cell_type": "code",
   "execution_count": 5,
   "metadata": {},
   "outputs": [],
   "source": [
    "def numpyEigensolver(qubitOp):\n",
    "    selections = []\n",
    "    exact_eigensolver = NumPyMinimumEigensolver(qubitOp)\n",
    "    result = exact_eigensolver.run()\n",
    "\n",
    "    selection_1 = print_result(result)\n",
    "    print(selection_to_picks(num_assets, selection_1))"
   ]
  },
  {
   "cell_type": "markdown",
   "metadata": {},
   "source": [
    "## VQE "
   ]
  },
  {
   "cell_type": "code",
   "execution_count": 6,
   "metadata": {},
   "outputs": [],
   "source": [
    "def vqe(qubitOp):\n",
    "    backend = Aer.get_backend('statevector_simulator')\n",
    "    seed = 50\n",
    "\n",
    "    cobyla = COBYLA()\n",
    "    cobyla.set_options(maxiter=500)\n",
    "    ry = TwoLocal(qubitOp.num_qubits, 'ry', 'cz', reps=3, entanglement='full')\n",
    "    vqe = VQE(qubitOp, ry, cobyla)\n",
    "    vqe.random_seed = seed\n",
    "\n",
    "    quantum_instance = QuantumInstance(backend=backend, seed_simulator=seed, seed_transpiler=seed)\n",
    "\n",
    "    result = vqe.run(quantum_instance)\n",
    "\n",
    "    selection_2 = print_result(result)\n",
    "    print(selection_to_picks(num_assets, selection_2))"
   ]
  },
  {
   "cell_type": "markdown",
   "metadata": {},
   "source": [
    "# Benchmarking"
   ]
  },
  {
   "cell_type": "markdown",
   "metadata": {},
   "source": [
    "## First Trial"
   ]
  },
  {
   "cell_type": "code",
   "execution_count": 7,
   "metadata": {},
   "outputs": [
    {
     "name": "stdout",
     "output_type": "stream",
     "text": [
      "Covariance plot\n"
     ]
    },
    {
     "data": {
      "image/png": "[encoded data removed]",
      "text/plain": [
       "<Figure size 432x288 with 1 Axes>"
      ]
     },
     "metadata": {
      "needs_background": "light"
     },
     "output_type": "display_data"
    }
   ],
   "source": [
    "###INSERT STOCK TICKERS IN STOCKS ARRAY ###\n",
    "stocks = [\"MSFT\", \"BA\", \"CVS\", \"IBM\", \"CF\", \"BIIB\", \"XOM\", \"V\", \"ADBE\", \"PEP\"]\n",
    "###---###\n",
    "num_assets, mu, sigma, q, budget, penalty, qubitOp, offset = get_vars(stocks, 0.7)"
   ]
  },
  {
   "cell_type": "code",
   "execution_count": 8,
   "metadata": {},
   "outputs": [
    {
     "name": "stdout",
     "output_type": "stream",
     "text": [
      "!!! Optimal: portfolio holdings !!!\n",
      "['MSFT', 'BA', 'V', 'ADBE', 'PEP']\n"
     ]
    }
   ],
   "source": [
    "#Classical Benchmark\n",
    "numpyEigensolver(qubitOp)"
   ]
  },
  {
   "cell_type": "code",
   "execution_count": 9,
   "metadata": {},
   "outputs": [
    {
     "name": "stdout",
     "output_type": "stream",
     "text": [
      "!!! Optimal: portfolio holdings !!!\n",
      "['MSFT', 'BA', 'CVS', 'XOM', 'ADBE']\n"
     ]
    }
   ],
   "source": [
    "# VQE\n",
    "vqe(qubitOp)"
   ]
  },
  {
   "cell_type": "code",
   "execution_count": 10,
   "metadata": {},
   "outputs": [
    {
     "name": "stdout",
     "output_type": "stream",
     "text": [
      "!!! Optimal: portfolio holdings !!!\n",
      "['MSFT', 'BA', 'V', 'ADBE', 'PEP']\n"
     ]
    }
   ],
   "source": [
    "# QAOA\n",
    "qaoa(qubitOp)"
   ]
  },
  {
   "attachments": {},
   "cell_type": "markdown",
   "metadata": {},
   "source": [
    "### Results\n",
    "![](./results/Trial_1.png)"
   ]
  },
  {
   "cell_type": "markdown",
   "metadata": {},
   "source": [
    "## Another trial"
   ]
  },
  {
   "cell_type": "code",
   "execution_count": 11,
   "metadata": {},
   "outputs": [
    {
     "name": "stdout",
     "output_type": "stream",
     "text": [
      "Covariance plot\n"
     ]
    },
    {
     "data": {
      "image/png": "[encoded data removed]",
      "text/plain": [
       "<Figure size 432x288 with 1 Axes>"
      ]
     },
     "metadata": {
      "needs_background": "light"
     },
     "output_type": "display_data"
    }
   ],
   "source": [
    "###INSERT STOCK TICKERS IN STOCKS ARRAY ###\n",
    "stocks = ['TSLA', 'MSFT', 'GOOG', 'PFE', 'AAPL', 'AMZN', 'SPY', 'ICLN', 'XOM', 'WBA']\n",
    "###---###\n",
    "num_assets, mu, sigma, q, budget, penalty, qubitOp, offset = get_vars(stocks, 0.7)"
   ]
  },
  {
   "cell_type": "code",
   "execution_count": 12,
   "metadata": {},
   "outputs": [
    {
     "name": "stdout",
     "output_type": "stream",
     "text": [
      "!!! Optimal: portfolio holdings !!!\n",
      "['TSLA', 'MSFT', 'AAPL', 'AMZN', 'SPY']\n"
     ]
    }
   ],
   "source": [
    "#Classical Benchmark\n",
    "numpyEigensolver(qubitOp)"
   ]
  },
  {
   "cell_type": "code",
   "execution_count": 13,
   "metadata": {},
   "outputs": [
    {
     "name": "stdout",
     "output_type": "stream",
     "text": [
      "!!! Optimal: portfolio holdings !!!\n",
      "['GOOG', 'AMZN', 'SPY', 'XOM', 'WBA']\n"
     ]
    }
   ],
   "source": [
    "# VQE\n",
    "vqe(qubitOp)"
   ]
  },
  {
   "cell_type": "code",
   "execution_count": 14,
   "metadata": {},
   "outputs": [
    {
     "name": "stdout",
     "output_type": "stream",
     "text": [
      "!!! Optimal: portfolio holdings !!!\n",
      "['GOOG', 'SPY', 'ICLN', 'XOM', 'WBA']\n"
     ]
    }
   ],
   "source": [
    "# QAOA\n",
    "qaoa(qubitOp)"
   ]
  },
  {
   "cell_type": "markdown",
   "metadata": {},
   "source": [
    "### Results\n",
    "![](./results/Trial_2.png)"
   ]
  },
  {
   "cell_type": "markdown",
   "metadata": {},
   "source": [
    "## One more trial"
   ]
  },
  {
   "cell_type": "code",
   "execution_count": 15,
   "metadata": {},
   "outputs": [
    {
     "name": "stdout",
     "output_type": "stream",
     "text": [
      "Covariance plot\n"
     ]
    },
    {
     "data": {
      "image/png": "[encoded data removed]",
      "text/plain": [
       "<Figure size 432x288 with 1 Axes>"
      ]
     },
     "metadata": {
      "needs_background": "light"
     },
     "output_type": "display_data"
    }
   ],
   "source": [
    "###INSERT STOCK TICKERS IN STOCKS ARRAY ###\n",
    "stocks = ['ATVI', 'MA', 'MCD', 'PLD', 'ETR', 'HBI', 'NEE', 'JPM', 'VZ', 'T']\n",
    "###---###\n",
    "num_assets, mu, sigma, q, budget, penalty, qubitOp, offset = get_vars(stocks, 0.7)"
   ]
  },
  {
   "cell_type": "code",
   "execution_count": 16,
   "metadata": {},
   "outputs": [
    {
     "name": "stdout",
     "output_type": "stream",
     "text": [
      "!!! Optimal: portfolio holdings !!!\n",
      "['ATVI', 'MA', 'MCD', 'NEE', 'JPM']\n"
     ]
    }
   ],
   "source": [
    "#Classical Benchmark\n",
    "numpyEigensolver(qubitOp)"
   ]
  },
  {
   "cell_type": "code",
   "execution_count": 17,
   "metadata": {},
   "outputs": [
    {
     "name": "stdout",
     "output_type": "stream",
     "text": [
      "!!! Optimal: portfolio holdings !!!\n",
      "['ATVI', 'MA', 'PLD', 'HBI', 'VZ']\n"
     ]
    }
   ],
   "source": [
    "# VQE\n",
    "vqe(qubitOp)"
   ]
  },
  {
   "cell_type": "code",
   "execution_count": 18,
   "metadata": {},
   "outputs": [
    {
     "name": "stdout",
     "output_type": "stream",
     "text": [
      "!!! Optimal: portfolio holdings !!!\n",
      "['ATVI', 'MA', 'ETR', 'NEE', 'JPM']\n"
     ]
    }
   ],
   "source": [
    "# QAOA\n",
    "qaoa(qubitOp)"
   ]
  },
  {
   "cell_type": "markdown",
   "metadata": {},
   "source": [
    "## Results\n",
    "![](./results/Trial_3.png)"
   ]
  }
 ],
 "metadata": {
  "kernelspec": {
   "display_name": "qiskit",
   "language": "python",
   "name": "qiskit"
  },
  "language_info": {
   "codemirror_mode": {
    "name": "ipython",
    "version": 3
   },
   "file_extension": ".py",
   "mimetype": "text/x-python",
   "name": "python",
   "nbconvert_exporter": "python",
   "pygments_lexer": "ipython3",
   "version": "3.8.3"
  }
 },
 "nbformat": 4,
 "nbformat_minor": 4
}
